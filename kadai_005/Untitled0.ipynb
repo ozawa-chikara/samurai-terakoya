{
  "nbformat": 4,
  "nbformat_minor": 0,
  "metadata": {
    "colab": {
      "provenance": []
    },
    "kernelspec": {
      "name": "python3",
      "display_name": "Python 3"
    },
    "language_info": {
      "name": "python"
    }
  },
  "cells": [
    {
      "cell_type": "code",
      "source": [
        "print ( 45 + 18 )\n",
        "print( 30 - 12 )\n",
        "print( 15 * 6 )\n",
        "print( 30 // 3 )\n",
        "print( 45 % 8 )"
      ],
      "metadata": {
        "id": "AdlhqQj-jURz"
      },
      "execution_count": null,
      "outputs": []
    },
    {
      "cell_type": "code",
      "source": [
        "print(\"今日の天気は\" + \"晴れ\")"
      ],
      "metadata": {
        "id": "WvbjVz53kWtA"
      },
      "execution_count": null,
      "outputs": []
    },
    {
      "cell_type": "code",
      "source": [
        "print( \"降水確率\" + str(50) + \"%\" )"
      ],
      "metadata": {
        "id": "JsA6YkB5lHMX"
      },
      "execution_count": null,
      "outputs": []
    },
    {
      "cell_type": "code",
      "source": [
        "user_name = \"侍太郎\"\n",
        "print(user_name)"
      ],
      "metadata": {
        "id": "7MKDVqCWmkVa"
      },
      "execution_count": null,
      "outputs": []
    },
    {
      "cell_type": "code",
      "source": [
        "number1=5\n",
        "number2=2.5\n",
        "print(number1+number2)"
      ],
      "metadata": {
        "id": "5cK48nkZnqBj"
      },
      "execution_count": null,
      "outputs": []
    },
    {
      "cell_type": "code",
      "source": [
        "last_name = \"侍\"\n",
        "first_name = \"太郎\"\n",
        "print(last_name + first_name)"
      ],
      "metadata": {
        "id": "qMBx_VHgoWLG"
      },
      "execution_count": null,
      "outputs": []
    },
    {
      "cell_type": "code",
      "source": [
        "last_name = \"侍\"\n",
        "first_name = \"太郎\"\n",
        "sister_name = \"花子\"\n",
        "\n",
        "print(f\"私の名前は{last_name}{first_name}です。妹の名前は{sister_name}です。\")"
      ],
      "metadata": {
        "id": "KN7B-a0no6fd"
      },
      "execution_count": null,
      "outputs": []
    },
    {
      "cell_type": "code",
      "source": [
        "s = (10+ 20)*5/2\n",
        "print(f\"{s}㎠\")"
      ],
      "metadata": {
        "id": "hEZyt2976rbY",
        "colab": {
          "base_uri": "https://localhost:8080/"
        },
        "outputId": "b0acd156-b49f-4b0f-9918-690436882438"
      },
      "execution_count": 2,
      "outputs": [
        {
          "output_type": "stream",
          "name": "stdout",
          "text": [
            "75.0㎠\n"
          ]
        }
      ]
    }
  ]
}