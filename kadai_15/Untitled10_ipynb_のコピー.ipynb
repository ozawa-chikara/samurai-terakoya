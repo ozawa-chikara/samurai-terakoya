{
  "nbformat": 4,
  "nbformat_minor": 0,
  "metadata": {
    "colab": {
      "provenance": []
    },
    "kernelspec": {
      "name": "python3",
      "display_name": "Python 3"
    },
    "language_info": {
      "name": "python"
    }
  },
  "cells": [
    {
      "cell_type": "code",
      "execution_count": null,
      "metadata": {
        "colab": {
          "base_uri": "https://localhost:8080/"
        },
        "id": "WPNtwkyJT5_j",
        "outputId": "f6539703-e567-4de2-9f6c-b1b835af29a4"
      },
      "outputs": [
        {
          "output_type": "stream",
          "name": "stdout",
          "text": [
            "侍太郎\n",
            "36\n"
          ]
        }
      ],
      "source": [
        "class Human:\n",
        "  def __init__(self):\n",
        "    self.name = \"侍太郎\"\n",
        "    self.age = \"36\"\n",
        "\n",
        "profile = Human()\n",
        "\n",
        "profile.name = \"侍太郎\"\n",
        "profile.age = \"36\"\n",
        "\n",
        "print(profile.name)\n",
        "print(profile.age)"
      ]
    }
  ]
}