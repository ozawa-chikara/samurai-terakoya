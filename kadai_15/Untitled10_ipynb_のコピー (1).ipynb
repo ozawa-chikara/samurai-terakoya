{
  "nbformat": 4,
  "nbformat_minor": 0,
  "metadata": {
    "colab": {
      "provenance": []
    },
    "kernelspec": {
      "name": "python3",
      "display_name": "Python 3"
    },
    "language_info": {
      "name": "python"
    }
  },
  "cells": [
    {
      "cell_type": "code",
      "source": [],
      "metadata": {
        "id": "d16wc-DDd4aL"
      },
      "execution_count": null,
      "outputs": []
    },
    {
      "cell_type": "code",
      "execution_count": 12,
      "metadata": {
        "colab": {
          "base_uri": "https://localhost:8080/"
        },
        "id": "WPNtwkyJT5_j",
        "outputId": "e76f4265-8141-4da3-9a68-971fc65933cf"
      },
      "outputs": [
        {
          "output_type": "stream",
          "name": "stdout",
          "text": [
            "侍太郎\n",
            "36\n"
          ]
        }
      ],
      "source": [
        "class Human:\n",
        "  def __init__(self):\n",
        "    self.name = \"\"\n",
        "    self.age = \"\"\n",
        "\n",
        "  def set_name(self,name):\n",
        "      self.name = name\n",
        "\n",
        "  def set_age(self,age):\n",
        "      self.age = age\n",
        "\n",
        "  def show_name(self):\n",
        "      print(self.name)\n",
        "\n",
        "  def show_age(self):\n",
        "      print(self.age)\n",
        "\n",
        "\n",
        "profile = Human()\n",
        "\n",
        "profile.set_name(\"侍太郎\")\n",
        "profile.set_age(\"36\")\n",
        "profile.show_name()\n",
        "profile.show_age()\n"
      ]
    }
  ]
}