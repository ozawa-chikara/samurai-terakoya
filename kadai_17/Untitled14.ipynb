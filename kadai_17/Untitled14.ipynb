{
  "nbformat": 4,
  "nbformat_minor": 0,
  "metadata": {
    "colab": {
      "provenance": []
    },
    "kernelspec": {
      "name": "python3",
      "display_name": "Python 3"
    },
    "language_info": {
      "name": "python"
    }
  },
  "cells": [
    {
      "cell_type": "code",
      "execution_count": 1,
      "metadata": {
        "id": "pA14tJdpEhq9"
      },
      "outputs": [],
      "source": [
        "class Human:\n",
        "    def __init__(self, name, age):\n",
        "        self.name = name\n",
        "        self.age = age\n",
        "\n",
        "    def is_adult(self):\n",
        "        return self.age >= 20\n",
        "def check_adults(human_list):\n",
        "    results = {}\n",
        "    for human in human_list:\n",
        "        if human.is_adult():\n",
        "            results[human.name] = \"大人です\"\n",
        "        else:\n",
        "            results[human.name] = \"大人ではありません\"\n",
        "    return results"
      ]
    }
  ]
}