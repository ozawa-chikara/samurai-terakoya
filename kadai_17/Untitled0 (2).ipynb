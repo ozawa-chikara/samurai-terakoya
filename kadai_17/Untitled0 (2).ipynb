{
  "nbformat": 4,
  "nbformat_minor": 0,
  "metadata": {
    "colab": {
      "provenance": []
    },
    "kernelspec": {
      "name": "python3",
      "display_name": "Python 3"
    },
    "language_info": {
      "name": "python"
    }
  },
  "cells": [
    {
      "cell_type": "code",
      "source": [
        "class Human:\n",
        "  def __init__(self,name,age):\n",
        "    self.name = name\n",
        "    self.age = age\n",
        "\n",
        "  def check_adult(self):\n",
        "    if self.age >= 20:\n",
        "      print(f\"{self.name} is adult\")\n",
        "    else:\n",
        "      print(f\"{self.name} is not adult\")\n",
        "humans = []\n",
        "humans.append(Human(\"侍太郎\",30))\n",
        "humans.append(Human(\"侍花子\",19))\n",
        "\n",
        "for human in humans:\n",
        "  human.check_adult()"
      ],
      "metadata": {
        "id": "WBEUGfTWxu_F",
        "colab": {
          "base_uri": "https://localhost:8080/"
        },
        "outputId": "8d7f0d79-86b4-428f-f45c-bcc63bb084b4"
      },
      "execution_count": 13,
      "outputs": [
        {
          "output_type": "stream",
          "name": "stdout",
          "text": [
            "侍太郎 is adult\n",
            "侍花子 is not adult\n"
          ]
        }
      ]
    },
    {
      "cell_type": "code",
      "source": [],
      "metadata": {
        "id": "nnUrrdhj5ITk"
      },
      "execution_count": null,
      "outputs": []
    }
  ]
}