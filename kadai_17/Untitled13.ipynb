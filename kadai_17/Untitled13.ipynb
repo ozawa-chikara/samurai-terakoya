{
  "nbformat": 4,
  "nbformat_minor": 0,
  "metadata": {
    "colab": {
      "provenance": []
    },
    "kernelspec": {
      "name": "python3",
      "display_name": "Python 3"
    },
    "language_info": {
      "name": "python"
    }
  },
  "cells": [
    {
      "cell_type": "code",
      "source": [
        "class Human:\n",
        "    def __init__(self,name,age):\n",
        "        self.name = name\n",
        "        self.age = age\n",
        "\n",
        "    def printinfo(self):\n",
        "      print(self.name)\n",
        "      print(self.age)\n",
        "\n",
        "human = Human(\"侍太郎\",35)\n",
        "human.printinfo()\n",
        "\n",
        ""
      ],
      "metadata": {
        "id": "Kp95ZlH59XCm",
        "colab": {
          "base_uri": "https://localhost:8080/"
        },
        "outputId": "8420bc5b-9ab4-4a43-d35c-d850713f998d"
      },
      "execution_count": 2,
      "outputs": [
        {
          "output_type": "stream",
          "name": "stdout",
          "text": [
            "侍太郎\n",
            "35\n"
          ]
        }
      ]
    }
  ]
}