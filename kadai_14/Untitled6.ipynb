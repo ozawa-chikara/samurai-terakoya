{
  "nbformat": 4,
  "nbformat_minor": 0,
  "metadata": {
    "colab": {
      "provenance": []
    },
    "kernelspec": {
      "name": "python3",
      "display_name": "Python 3"
    },
    "language_info": {
      "name": "python"
    }
  },
  "cells": [
    {
      "cell_type": "code",
      "execution_count": 6,
      "metadata": {
        "colab": {
          "base_uri": "https://localhost:8080/"
        },
        "id": "kH0AToxF5gL8",
        "outputId": "6afffed4-d1fc-42dc-d65d-b5c19f4dd684"
      },
      "outputs": [
        {
          "output_type": "stream",
          "name": "stdout",
          "text": [
            "121.0\n"
          ]
        }
      ],
      "source": [
        "def calculate_total(price, tax):\n",
        "  total = price + price * tax / 100\n",
        "  return total\n",
        "val = calculate_total(110,10)\n",
        "print(val)\n",
        "\n"
      ]
    }
  ]
}